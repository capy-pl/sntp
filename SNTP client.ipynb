{
 "cells": [
  {
   "cell_type": "code",
   "execution_count": 31,
   "id": "6cb06a63",
   "metadata": {},
   "outputs": [],
   "source": [
    "import struct\n",
    "import datetime"
   ]
  },
  {
   "cell_type": "markdown",
   "id": "fd9c2e18",
   "metadata": {},
   "source": [
    "## NTP & SNTP RFC:\n",
    "\n",
    "1. [NTP Protocol](https://datatracker.ietf.org/doc/html/rfc5905)\n",
    "2. [SNTP Protocol](https://datatracker.ietf.org/doc/html/rfc4330)"
   ]
  },
  {
   "cell_type": "markdown",
   "id": "49172fa0",
   "metadata": {},
   "source": [
    "## NTP Timestamps\n",
    "\n",
    "The ntp timestamps are the seconds elapsed from 1 January 1900. For a ntp timestamp, there are three formats: 32-bit, 64-bit and 128-bit. The sntp protocol uses the 64-bit format that consists of two parts and each part accounts for 32-bit:\n",
    "\n",
    "1. second\n",
    "2. fraction\n",
    "\n",
    "The fraction part is the fractional second. The minimum unit is (1 / 2 ^ 32) second.\n",
    "\n",
    "It should be noted that the base date of ntp timestamps is 1 January 1900 while the unix timestamp is 1 January 1970. In most of programming languages, the standard libraries dealing with time use unix timestamp as the default standard. \n",
    "\n",
    "### References\n",
    "\n",
    "1. https://datatracker.ietf.org/doc/html/rfc5905#section-6"
   ]
  },
  {
   "cell_type": "markdown",
   "id": "3461432c",
   "metadata": {},
   "source": [
    "## An Implementation of SNTP Packet"
   ]
  },
  {
   "cell_type": "code",
   "execution_count": 32,
   "id": "2912d338",
   "metadata": {},
   "outputs": [],
   "source": [
    "class SNTP_Packet:\n",
    "    def __init__(self):\n",
    "        self.li = 0\n",
    "        self.vn = 0\n",
    "        self.mode = 0\n",
    "        self.stratum = 0\n",
    "        self.poll = 0\n",
    "        self.precision = 0\n",
    "        self.root_delay = 0\n",
    "        self.root_dispersion = 0\n",
    "        self.reference_identifier = 0\n",
    "        self.reference_timestamp = (0, 0)\n",
    "        self.originate_timestamp = (0, 0)\n",
    "        self.receive_timestamp = (0, 0)\n",
    "        self.transmit_timestamp = (0, 0)\n",
    "\n",
    "        self.li_vn_mode_format = 'B'\n",
    "        self.stratum_format = 'B'\n",
    "        self.poll_format = 'B'\n",
    "        self.precision_format = 'B'\n",
    "        self.root_delay_format = 'I'\n",
    "        self.root_dispersion_format = 'I'\n",
    "        self.reference_identifier_format = 'I'\n",
    "        self.reference_timestamp_format = 'II'\n",
    "        self.originate_timestamp_format = 'II'\n",
    "        self.receive_timestamp_format = 'II'\n",
    "        self.transmit_timestamp_format = 'II'\n",
    "\n",
    "    def to_bytes(self):        \n",
    "        return struct.pack(self.get_packet_format(), *self.get_packet_value())\n",
    "\n",
    "    def from_bytes(self, buff):\n",
    "        fields = struct.unpack(self.get_packet_format(), buff)\n",
    "        li, vn, mode = self.decode_li_vn_mode(fields[0])\n",
    "        self.li = li\n",
    "        self.vn = vn\n",
    "        self.mode = mode\n",
    "\n",
    "        self.stratum = fields[1]\n",
    "        self.poll = fields[2]\n",
    "        self.precision = fields[3]\n",
    "        self.root_delay = fields[4]\n",
    "        self.root_dispersion = fields[5]\n",
    "        self.reference_identifier = fields[6]\n",
    "        self.reference_timestamp = (fields[7], fields[8])\n",
    "        self.originate_timestamp = (fields[9], fields[10])\n",
    "        self.receive_timestamp = (fields[11], fields[12])\n",
    "        self.transmit_timestamp = (fields[13], fields[14])\n",
    "\n",
    "        return self\n",
    "    \n",
    "    # leap indicator, version number and mode are combined into a single byte\n",
    "    # create two functions to encode/decode it.\n",
    "    def encode_li_vn_mode(self):\n",
    "        return (self.li << 6) + (self.vn << 3) + self.mode\n",
    "\n",
    "    def decode_li_vn_mode(self, val):\n",
    "        li_mask = 0b11000000\n",
    "        vn_mask = 0b00111000\n",
    "        mode_mask = 0b00000111\n",
    "\n",
    "        li = (val & li_mask) >> 6\n",
    "        vn = (val & vn_mask) >> 3\n",
    "        mode = val & mode_mask\n",
    "        return (li, vn, mode)\n",
    "\n",
    "    def encode_ntp_timestamp(self, timestamp):\n",
    "        ntp_timestamp = timestamp - self.get_ntp_timestamp_offset()\n",
    "        second = int(ntp_timestamp)\n",
    "        \n",
    "        # convert the fractional second to an integer\n",
    "        fraction_second = int((ntp_timestamp - second) * (2 ** 32))\n",
    "        return (second, fraction_second)\n",
    "\n",
    "    def decode_ntp_timestamp(self, seconds, fraction_seconds):\n",
    "        fraction_seconds /= 2 ** 32\n",
    "        ntp_timestamp = seconds + fraction_seconds\n",
    "        timestamp = ntp_timestamp + self.get_ntp_timestamp_offset()\n",
    "        return timestamp\n",
    "\n",
    "    def get_packet_format(self):\n",
    "        return ''.join([\n",
    "            '>',\n",
    "            self.li_vn_mode_format,\n",
    "            self.stratum_format,\n",
    "            self.poll_format,\n",
    "            self.precision_format,\n",
    "            self.root_delay_format,\n",
    "            self.root_dispersion_format,\n",
    "            self.reference_identifier_format,\n",
    "            self.reference_timestamp_format,\n",
    "            self.originate_timestamp_format,\n",
    "            self.receive_timestamp_format,\n",
    "            self.transmit_timestamp_format\n",
    "        ])\n",
    "    \n",
    "    def get_packet_value(self):\n",
    "        return [\n",
    "            self.encode_li_vn_mode(),\n",
    "            self.stratum,\n",
    "            self.poll,\n",
    "            self.precision,\n",
    "            self.root_delay,\n",
    "            self.root_dispersion,\n",
    "            self.reference_identifier,\n",
    "            *self.reference_timestamp,\n",
    "            *self.originate_timestamp,\n",
    "            *self.receive_timestamp,\n",
    "            *self.transmit_timestamp\n",
    "        ]\n",
    "\n",
    "    def get_ntp_timestamp_offset(self):\n",
    "        return datetime.datetime(1900, 1, 1, tzinfo=datetime.timezone.utc).timestamp()\n",
    "    \n",
    "    def get_iso_format(self, timestamp):\n",
    "        t = datetime.datetime.fromtimestamp(timestamp)\n",
    "        return t.isoformat()\n",
    "\n",
    "    def print_info(self):\n",
    "        print(\"Leap Indicator: {}\".format(self.li))\n",
    "        print(\"Version Number: {}\".format(self.vn))\n",
    "        print(\"Mode: {}\".format(self.mode))\n",
    "        print(\"Stratum: {}\".format(self.stratum))\n",
    "        print(\"Poll Interval: {}\".format(self.poll))\n",
    "        print(\"Precision: {}\".format(self.precision))\n",
    "        print(\"Root Delay: {}\".format(self.root_delay))\n",
    "        print(\"Root Dispersion: {}\".format(self.root_dispersion))\n",
    "        print(\"Reference Identifier: {}\".format(self.reference_identifier))\n",
    "        print(\"Reference Timestamp: {}\".format(self.get_iso_format(self.decode_ntp_timestamp(*self.reference_timestamp))))\n",
    "        print(\"Originate Timestamp: {}\".format(self.get_iso_format(self.decode_ntp_timestamp(*self.originate_timestamp))))\n",
    "        print(\"Receive Timestamp: {}\".format(self.get_iso_format(self.decode_ntp_timestamp(*self.receive_timestamp))))\n",
    "        print(\"Transmit Timestamp: {}\".format(self.get_iso_format(self.decode_ntp_timestamp(*self.transmit_timestamp))))\n",
    "    \n",
    "    # construct a sntp client packet\n",
    "    @staticmethod\n",
    "    def client_packet():\n",
    "        packet = SNTP_Packet()\n",
    "        packet.li = 0\n",
    "\n",
    "        # using sntp version 4\n",
    "        packet.vn = 4\n",
    "\n",
    "        # mode 3 indicates this is a client packet\n",
    "        packet.mode = 3\n",
    "\n",
    "        curr_time = datetime.datetime.now(tz=datetime.timezone.utc).timestamp()\n",
    "        packet.transmit_timestamp = packet.encode_ntp_timestamp(curr_time)\n",
    "        return packet\n",
    "\n",
    "    @staticmethod\n",
    "    def compute_offset(client_transmission_time, client_reception_time, server_transmission_time, server_reception_time):\n",
    "        theta_1_second = server_reception_time[0] - client_transmission_time[0]\n",
    "        theta_1_fraction = (server_reception_time[1] - client_transmission_time[1]) / (2 ** 32)\n",
    "        theta_2_second = server_transmission_time[0] - client_reception_time[0]\n",
    "        theta_2_fraction = (server_transmission_time[1] - client_reception_time[1]) / (2 ** 32)\n",
    "        return (theta_1_second + theta_1_fraction + theta_2_second + theta_2_fraction) / 2\n"
   ]
  },
  {
   "cell_type": "markdown",
   "id": "9a205d2f",
   "metadata": {},
   "source": [
    "### Send UDP Packet"
   ]
  },
  {
   "cell_type": "code",
   "execution_count": 33,
   "id": "e6d6283a",
   "metadata": {},
   "outputs": [],
   "source": [
    "import socket"
   ]
  },
  {
   "cell_type": "code",
   "execution_count": 34,
   "id": "3aa2aef0",
   "metadata": {},
   "outputs": [],
   "source": [
    "# create an udp client\n",
    "s = socket.socket(socket.AF_INET, socket.SOCK_DGRAM)\n",
    "\n",
    "# bind the udp client in a random port.\n",
    "CLIENT_ADDR = ('0.0.0.0', 8888)\n",
    "\n",
    "# send the request to the addrsss of a taiwan's ntp server.\n",
    "# there is a ntp pool project mantained by volunteers worldwide. below is their website\n",
    "# https://www.pool.ntp.org/zone/tw\n",
    "NTP_SERVER_ADDR = ('111.235.248.121', 123)"
   ]
  },
  {
   "cell_type": "code",
   "execution_count": 35,
   "id": "44e665f6",
   "metadata": {},
   "outputs": [
    {
     "name": "stdout",
     "output_type": "stream",
     "text": [
      "Leap Indicator: 0\n",
      "Version Number: 4\n",
      "Mode: 3\n",
      "Stratum: 0\n",
      "Poll Interval: 0\n",
      "Precision: 0\n",
      "Root Delay: 0\n",
      "Root Dispersion: 0\n",
      "Reference Identifier: 0\n",
      "Reference Timestamp: 1900-01-01T08:00:00\n",
      "Originate Timestamp: 1900-01-01T08:00:00\n",
      "Receive Timestamp: 1900-01-01T08:00:00\n",
      "Transmit Timestamp: 2022-07-12T16:43:36.294551\n"
     ]
    }
   ],
   "source": [
    "# create a sntp client packet\n",
    "sntp_client_packet = SNTP_Packet.client_packet()\n",
    "\n",
    "# look at the client packet\n",
    "sntp_client_packet.print_info()\n",
    "\n",
    "# send the client packet to the sntp server\n",
    "s.sendto(sntp_client_packet.to_bytes(), NTP_SERVER_ADDR)\n",
    "\n",
    "resp_packet, server_addr = s.recvfrom(48)\n",
    "\n",
    "# record the receive timestamp for computing the offset later\n",
    "sntp_client_receive_timestamp = sntp_client_packet.encode_ntp_timestamp(datetime.datetime.now(tz=datetime.timezone.utc).timestamp())\n",
    "\n",
    "# parse the response packet\n",
    "sntp_response_packet = SNTP_Packet().from_bytes(resp_packet)\n",
    "\n",
    "# close the udp socket\n",
    "s.close()"
   ]
  },
  {
   "cell_type": "code",
   "execution_count": 36,
   "id": "70e01550",
   "metadata": {},
   "outputs": [
    {
     "name": "stdout",
     "output_type": "stream",
     "text": [
      "Leap Indicator: 0\n",
      "Version Number: 4\n",
      "Mode: 4\n",
      "Stratum: 1\n",
      "Poll Interval: 3\n",
      "Precision: 235\n",
      "Root Delay: 0\n",
      "Root Dispersion: 109\n",
      "Reference Identifier: 1347441408\n",
      "Reference Timestamp: 2022-07-12T16:42:51.215627\n",
      "Originate Timestamp: 2022-07-12T16:43:36.294551\n",
      "Receive Timestamp: 2022-07-12T16:43:36.392542\n",
      "Transmit Timestamp: 2022-07-12T16:43:36.392695\n"
     ]
    }
   ],
   "source": [
    "# look at the response packet\n",
    "sntp_response_packet.print_info()"
   ]
  },
  {
   "cell_type": "code",
   "execution_count": 37,
   "id": "570d642b",
   "metadata": {},
   "outputs": [
    {
     "data": {
      "text/plain": [
       "0.0882257241755724"
      ]
     },
     "execution_count": 37,
     "metadata": {},
     "output_type": "execute_result"
    }
   ],
   "source": [
    "SNTP_Packet.compute_offset(\n",
    "    sntp_client_packet.transmit_timestamp,\n",
    "    sntp_client_receive_timestamp,\n",
    "    sntp_response_packet.transmit_timestamp,\n",
    "    sntp_response_packet.receive_timestamp,\n",
    ")"
   ]
  },
  {
   "cell_type": "code",
   "execution_count": null,
   "id": "015960c1",
   "metadata": {},
   "outputs": [],
   "source": []
  }
 ],
 "metadata": {
  "kernelspec": {
   "display_name": "Python 3 (ipykernel)",
   "language": "python",
   "name": "python3"
  },
  "language_info": {
   "codemirror_mode": {
    "name": "ipython",
    "version": 3
   },
   "file_extension": ".py",
   "mimetype": "text/x-python",
   "name": "python",
   "nbconvert_exporter": "python",
   "pygments_lexer": "ipython3",
   "version": "3.9.2"
  }
 },
 "nbformat": 4,
 "nbformat_minor": 5
}
